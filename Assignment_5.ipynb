{
  "nbformat": 4,
  "nbformat_minor": 0,
  "metadata": {
    "colab": {
      "provenance": []
    },
    "kernelspec": {
      "name": "python3",
      "display_name": "Python 3"
    },
    "language_info": {
      "name": "python"
    }
  },
  "cells": [
    {
      "cell_type": "markdown",
      "source": [
        "## Challenge 1\n"
      ],
      "metadata": {
        "id": "4OdcIWfE5fjS"
      }
    },
    {
      "cell_type": "code",
      "execution_count": 11,
      "metadata": {
        "id": "Lc7dDLKj-QVU",
        "colab": {
          "base_uri": "https://localhost:8080/"
        },
        "outputId": "f26ae561-1d9b-4273-ea50-48318ad47327"
      },
      "outputs": [
        {
          "output_type": "execute_result",
          "data": {
            "text/plain": [
              "35"
            ]
          },
          "metadata": {},
          "execution_count": 11
        }
      ],
      "source": [
        "class Point:\n",
        "\n",
        "    def __init__(self,x,y,z):\n",
        "        self.x = x\n",
        "        self.y = y\n",
        "        self.z = z\n",
        "\n",
        "    def sqSum(self):\n",
        "      sum = 0\n",
        "      sum += self.x**2+self.y**2+self.z**2\n",
        "      return sum\n",
        "\n",
        "c=Point(1,3,5)\n",
        "\n",
        "c.sqSum()"
      ]
    },
    {
      "cell_type": "markdown",
      "source": [
        "## Challenge 2"
      ],
      "metadata": {
        "id": "DehgZCnY6ZdB"
      }
    },
    {
      "cell_type": "code",
      "source": [
        "class Calculator:\n",
        "\n",
        "    def __init__(self, num1, num2):\n",
        "      self.num1=num1\n",
        "      self.num2=num2\n",
        "    def add(self):\n",
        "        return self.num1+self.num2\n",
        "    def subtract(self):\n",
        "        return self.num2-self.num1\n",
        "    def multiply(self):\n",
        "        return self.num1*self.num2\n",
        "    def divide(self):\n",
        "        return self.num2 / self.num1\n",
        "\n",
        "obj= Calculator(10,94)\n",
        "print(obj.add())\n",
        "print(obj.subtract())\n",
        "print(obj.multiply())\n",
        "print(obj.divide())\n"
      ],
      "metadata": {
        "colab": {
          "base_uri": "https://localhost:8080/"
        },
        "id": "Pe4KanaD6bwG",
        "outputId": "e517660b-f3c7-48fd-f577-e8e82c6e86a7"
      },
      "execution_count": 12,
      "outputs": [
        {
          "output_type": "stream",
          "name": "stdout",
          "text": [
            "104\n",
            "84\n",
            "940\n",
            "9.4\n"
          ]
        }
      ]
    },
    {
      "cell_type": "markdown",
      "source": [
        "## Challenge 3"
      ],
      "metadata": {
        "id": "iVJdz91N7ecJ"
      }
    },
    {
      "cell_type": "code",
      "source": [
        "class Student:\n",
        "\n",
        "    def setName(self, name):\n",
        "      self.__name=name\n",
        "      return self.__name\n",
        "    def getName(self):\n",
        "      return self.__name\n",
        "    def setRollNumber(self, rollno):\n",
        "      self.__rollno=rollno\n",
        "      return self.__rollno\n",
        "    def getRollNumber(self):\n",
        "        return self.__rollno\n",
        "s=Student()\n",
        "\n",
        "s.setName('Raghuram')\n",
        "print(\"the name of the student: \", s.getName())\n",
        "s.setRollNumber(1)\n",
        "print(\"the roll no of the student: \", s.getRollNumber())\n",
        "\n"
      ],
      "metadata": {
        "colab": {
          "base_uri": "https://localhost:8080/"
        },
        "id": "gZh7-UUW7TN-",
        "outputId": "5ceab5f7-eec5-40a8-c259-48f37d0da676"
      },
      "execution_count": 13,
      "outputs": [
        {
          "output_type": "stream",
          "name": "stdout",
          "text": [
            "the name of the student:  Raghuram\n",
            "the roll no of the student:  1\n"
          ]
        }
      ]
    },
    {
      "cell_type": "markdown",
      "source": [
        "## Challenge 4"
      ],
      "metadata": {
        "id": "p8u59wNP-t8E"
      }
    },
    {
      "cell_type": "code",
      "source": [
        "class Account:\n",
        "\n",
        "    def __init__(self,title=None, Balance=0):\n",
        "      self.title=title\n",
        "      self.Balance=Balance\n",
        "\n",
        "class SavingsAccount(Account):\n",
        "\n",
        "    def __init__(self, title=None, balance=0, interestrate=0):\n",
        "       super().__init__(title, balance)\n",
        "       self.interestrate=interestrate\n",
        "\n",
        "A = Account(\"Ansh\", 5000)\n",
        "c= SavingsAccount(\"Ansh\", 5000, 5)\n",
        "\n",
        "        "
      ],
      "metadata": {
        "id": "KA6hjOtc-OqJ"
      },
      "execution_count": 14,
      "outputs": []
    },
    {
      "cell_type": "markdown",
      "source": [
        "## Challenge 5"
      ],
      "metadata": {
        "id": "DbOAryw1BGrn"
      }
    },
    {
      "cell_type": "code",
      "source": [
        "import sys\n",
        "class Account:\n",
        "    def __init__(self, title=None, balance=0):\n",
        "        self.title = title\n",
        "        self.balance = balance\n",
        "    \n",
        "    def withdrawal(self, amount):\n",
        "      if amount>self.balance:\n",
        "        print(\"Insufficient balance we cannot process your request\")\n",
        "        sys.exit()\n",
        "      self.balance=self.balance-amount \n",
        "      print(\"Balance After Withdrawal :\",self.balance)\n",
        "      return '*'*50\n",
        "\n",
        "    def deposit(self, amount):\n",
        "       self.balance=self.balance+amount\n",
        "       print(\"Balance After Deposit \",self.balance)\n",
        "       return '*'*50\n",
        "    def getBalance(self):\n",
        "        print(\"Balance Available :\",self.balance)\n",
        "class SavingsAccount(Account):\n",
        "    def __init__(self, title=None, balance=0, interestRate=0):\n",
        "            super().__init__(title, balance)\n",
        "            self.interestRate = interestRate\n",
        "    \n",
        "    def interestAmount(self):\n",
        "      interest = self.interestRate*self.balance\n",
        "      interest = interest/100\n",
        "      print(\"interest amount is: \",interest )\n",
        "      return '*'*50\n",
        "\n",
        "demo1 = SavingsAccount(\"Ashish\", 2000, 5)\n",
        "print(\"initial amount\", demo1.balance)\n",
        "print(demo1.deposit(500))\n",
        "print(demo1.withdrawal(500))\n",
        "print(demo1.interestAmount())\n",
        "\n"
      ],
      "metadata": {
        "colab": {
          "base_uri": "https://localhost:8080/"
        },
        "id": "j1QdvqhqAe5s",
        "outputId": "0030273c-5ab1-473a-8725-e094361f85fa"
      },
      "execution_count": 10,
      "outputs": [
        {
          "output_type": "stream",
          "name": "stdout",
          "text": [
            "initial amount 2000\n",
            "Balance After Deposit  2500\n",
            "**************************************************\n",
            "Balance After Withdrawal : 2000\n",
            "**************************************************\n",
            "interest amount is:  100.0\n",
            "**************************************************\n"
          ]
        }
      ]
    }
  ]
}